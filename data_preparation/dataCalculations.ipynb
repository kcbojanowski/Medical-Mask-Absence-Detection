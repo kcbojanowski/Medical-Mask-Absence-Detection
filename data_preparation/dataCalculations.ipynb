{
 "cells": [
  {
   "cell_type": "markdown",
   "source": [
    "Face Mask Detection\n",
    "853 images belonging to 3 classes.\n",
    "https://www.kaggle.com/datasets/andrewmvd/face-mask-detection\n",
    "Classes:\n",
    "* 0 - mask worn incorrectly\n",
    "* 1 - with mask\n",
    "* 2 - without mask\n"
   ],
   "metadata": {
    "collapsed": false
   }
  },
  {
   "cell_type": "code",
   "execution_count": null,
   "outputs": [],
   "source": [
    "import os\n",
    "from prettytable import PrettyTable"
   ],
   "metadata": {
    "collapsed": false
   }
  },
  {
   "cell_type": "code",
   "execution_count": 3,
   "outputs": [],
   "source": [
    "# Define class labels\n",
    "classes = {\n",
    "    0: \"mask worn incorrectly\",\n",
    "    1: \"with mask\",\n",
    "    2: \"without mask\"\n",
    "}\n",
    "\n",
    "def count_classes(directory, title):\n",
    "    # Initialize count dictionary\n",
    "    class_counts = {key: 0 for key in classes}\n",
    "\n",
    "    # Go through all files in the directory\n",
    "    for filename in os.listdir(directory):\n",
    "        if filename.endswith(\".txt\"):\n",
    "            with open(os.path.join(directory, filename), 'r') as f:\n",
    "                lines = f.readlines()\n",
    "                for line in lines:\n",
    "                    class_num = int(line.strip().split()[0])\n",
    "                    if class_num in class_counts:\n",
    "                        class_counts[class_num] += 1\n",
    "\n",
    "    # Display the results using PrettyTable\n",
    "    table = PrettyTable()\n",
    "    table.title = title\n",
    "    table.field_names = [\"Class\", \"Description\", \"Count\"]\n",
    "    for key, value in class_counts.items():\n",
    "        table.add_row([key, classes[key], value/3])\n",
    "\n",
    "    print(table)\n",
    "\n",
    "        # Suggestion\n",
    "    total_samples = sum(class_counts.values())\n",
    "    if class_counts[0] < total_samples * 0.15:\n",
    "        print(\"\\nSuggestion: Consider adding more samples of 'mask worn incorrectly' to make the dataset more balanced.\")\n",
    "    if class_counts[1] < total_samples * 0.15:\n",
    "        print(\"\\nSuggestion: Consider adding more samples of 'with mask' to make the dataset more balanced.\")\n",
    "    if class_counts[2] < total_samples * 0.15:\n",
    "        print(\"\\nSuggestion: Consider adding more samples of 'without mask' to make the dataset more balanced.\")\n",
    "\n",
    "    print(\"\\n----------------------------------\\n\")"
   ],
   "metadata": {
    "collapsed": false,
    "ExecuteTime": {
     "end_time": "2023-10-28T19:42:37.909995400Z",
     "start_time": "2023-10-28T19:42:37.907994200Z"
    }
   }
  },
  {
   "cell_type": "code",
   "execution_count": 4,
   "metadata": {
    "collapsed": true,
    "ExecuteTime": {
     "end_time": "2023-10-28T19:42:40.470917300Z",
     "start_time": "2023-10-28T19:42:37.915994300Z"
    }
   },
   "outputs": [
    {
     "name": "stdout",
     "output_type": "stream",
     "text": [
      "+----------------------------------------------------+\n",
      "|                   Train Dataset                    |\n",
      "+-------+-----------------------+--------------------+\n",
      "| Class |      Description      |       Count        |\n",
      "+-------+-----------------------+--------------------+\n",
      "|   0   | mask worn incorrectly | 84.33333333333333  |\n",
      "|   1   |       with mask       | 1800.3333333333333 |\n",
      "|   2   |      without mask     | 1751.6666666666667 |\n",
      "+-------+-----------------------+--------------------+\n",
      "\n",
      "Suggestion: Consider adding more samples of 'mask worn incorrectly' to make the dataset more balanced.\n",
      "\n",
      "----------------------------------\n",
      "\n",
      "+----------------------------------------------------+\n",
      "|                    Test Dataset                    |\n",
      "+-------+-----------------------+--------------------+\n",
      "| Class |      Description      |       Count        |\n",
      "+-------+-----------------------+--------------------+\n",
      "|   0   | mask worn incorrectly |        4.0         |\n",
      "|   1   |       with mask       |       218.0        |\n",
      "|   2   |      without mask     | 194.33333333333334 |\n",
      "+-------+-----------------------+--------------------+\n",
      "\n",
      "Suggestion: Consider adding more samples of 'mask worn incorrectly' to make the dataset more balanced.\n",
      "\n",
      "----------------------------------\n",
      "\n",
      "+----------------------------------------------------+\n",
      "|                 Validation Dataset                 |\n",
      "+-------+-----------------------+--------------------+\n",
      "| Class |      Description      |       Count        |\n",
      "+-------+-----------------------+--------------------+\n",
      "|   0   | mask worn incorrectly | 4.666666666666667  |\n",
      "|   1   |       with mask       |       154.0        |\n",
      "|   2   |      without mask     | 187.66666666666666 |\n",
      "+-------+-----------------------+--------------------+\n",
      "\n",
      "Suggestion: Consider adding more samples of 'mask worn incorrectly' to make the dataset more balanced.\n",
      "\n",
      "----------------------------------\n",
      "\n"
     ]
    }
   ],
   "source": [
    "\n",
    "# Define directory path\n",
    "train_directory = \"../Mask-Detection-YOLOv8-1/train/labels\"\n",
    "test_directory = \"../Mask-Detection-YOLOv8-1/test/labels\"\n",
    "val_directory = \"../Mask-Detection-YOLOv8-1/valid/labels\"\n",
    "\n",
    "count_classes(train_directory, \"Train Dataset\")\n",
    "count_classes(test_directory, \"Test Dataset\")\n",
    "count_classes(val_directory, \"Validation Dataset\")"
   ]
  }
 ],
 "metadata": {
  "kernelspec": {
   "display_name": "Python 3",
   "language": "python",
   "name": "python3"
  },
  "language_info": {
   "codemirror_mode": {
    "name": "ipython",
    "version": 2
   },
   "file_extension": ".py",
   "mimetype": "text/x-python",
   "name": "python",
   "nbconvert_exporter": "python",
   "pygments_lexer": "ipython2",
   "version": "2.7.6"
  }
 },
 "nbformat": 4,
 "nbformat_minor": 0
}
