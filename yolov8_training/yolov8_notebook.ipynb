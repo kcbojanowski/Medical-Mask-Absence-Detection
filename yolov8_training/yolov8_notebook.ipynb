{
 "cells": [
  {
   "cell_type": "markdown",
   "source": [
    "# YOLOv8 Model for Medical Masks Detection\n",
    "Implementation of Yolov8 model trained using dataset created using three different datasets. Model will be implemented in DeepStream SDK Face Mask Absence Detection.\n",
    "Process: \n",
    "1. Data processing\n",
    "2. Training Yolov8 custom model\n",
    "3. Converting it to ONNX file (Open Neural Network Exchange)\n",
    "4. Modifying model using GraphSurgeon for DeepStream compatibility\n",
    "4. Transferring it to TensorRT engine (compatibility, performance, optimization)\n",
    "5. Creating custom C++ parser for the Deepstream application\n",
    "6. Programming Deepstream Application and creating configuration file\n",
    "7. Analyzing results and performance"
   ],
   "metadata": {
    "collapsed": false
   }
  },
  {
   "cell_type": "markdown",
   "source": [
    "**Environment and GPU Check**"
   ],
   "metadata": {
    "collapsed": false
   }
  },
  {
   "cell_type": "code",
   "execution_count": 1,
   "outputs": [
    {
     "name": "stdout",
     "output_type": "stream",
     "text": [
      "Mon Nov 20 17:52:57 2023       \r\n",
      "+---------------------------------------------------------------------------------------+\r\n",
      "| NVIDIA-SMI 535.129.03             Driver Version: 535.129.03   CUDA Version: 12.2     |\r\n",
      "|-----------------------------------------+----------------------+----------------------+\r\n",
      "| GPU  Name                 Persistence-M | Bus-Id        Disp.A | Volatile Uncorr. ECC |\r\n",
      "| Fan  Temp   Perf          Pwr:Usage/Cap |         Memory-Usage | GPU-Util  Compute M. |\r\n",
      "|                                         |                      |               MIG M. |\r\n",
      "|=========================================+======================+======================|\r\n",
      "|   0  NVIDIA GeForce RTX 3060 ...    On  | 00000000:01:00.0 Off |                  N/A |\r\n",
      "| N/A   38C    P0              N/A /  80W |      9MiB /  6144MiB |      0%      Default |\r\n",
      "|                                         |                      |                  N/A |\r\n",
      "+-----------------------------------------+----------------------+----------------------+\r\n",
      "                                                                                         \r\n",
      "+---------------------------------------------------------------------------------------+\r\n",
      "| Processes:                                                                            |\r\n",
      "|  GPU   GI   CI        PID   Type   Process name                            GPU Memory |\r\n",
      "|        ID   ID                                                             Usage      |\r\n",
      "|=======================================================================================|\r\n",
      "|    0   N/A  N/A      1413      G   /usr/lib/xorg/Xorg                            4MiB |\r\n",
      "+---------------------------------------------------------------------------------------+\r\n",
      "Cuda available\n"
     ]
    }
   ],
   "source": [
    "import os\n",
    "import re\n",
    "import time\n",
    "import yaml\n",
    "import shutil\n",
    "\n",
    "import torch\n",
    "import torch.onnx\n",
    "from ultralytics.models import YOLO\n",
    "\n",
    "#import wandb\n",
    "from roboflow import Roboflow\n",
    "#from wandb.integration.ultralytics import add_wandb_callback\n",
    "\n",
    "\n",
    "!nvidia-smi\n",
    "print(\"Cuda available\") if torch.cuda.is_available() else print(\"Cuda is not available\")\n",
    "HOME = 'C:/Users/kacpi/PycharmProjects/Medical-Mask-Presence-Detection'"
   ],
   "metadata": {
    "collapsed": false,
    "ExecuteTime": {
     "end_time": "2023-11-20T16:52:57.427152520Z",
     "start_time": "2023-11-20T16:52:53.498626871Z"
    }
   }
  },
  {
   "cell_type": "code",
   "execution_count": null,
   "outputs": [],
   "source": [
    "#wandb.login()"
   ],
   "metadata": {
    "collapsed": false
   }
  },
  {
   "cell_type": "markdown",
   "source": [
    "**Parameters**\n",
    "* Project and version are needed for Roboflow deployment where model can be used and analyzed\n",
    "* Epochs and Bs are both used in training process\n",
    "* Img_size = 640 "
   ],
   "metadata": {
    "collapsed": false
   }
  },
  {
   "cell_type": "code",
   "execution_count": 5,
   "outputs": [],
   "source": [
    "PROJECT = \"Medical-Mask-Presence-Detection\"\n",
    "VERSION = 14\n",
    "EPOCHS = 40\n",
    "BS = 64\n",
    "IMG_SIZE = 640"
   ],
   "metadata": {
    "collapsed": false,
    "ExecuteTime": {
     "end_time": "2023-11-20T16:54:47.565294477Z",
     "start_time": "2023-11-20T16:54:47.558588409Z"
    }
   }
  },
  {
   "cell_type": "markdown",
   "source": [
    "**Dataset Preparation**\n",
    "1. downloading dataset from Roboflow platform\n",
    "2. checking if dataset already exists in local environment"
   ],
   "metadata": {
    "collapsed": false
   }
  },
  {
   "cell_type": "code",
   "execution_count": 6,
   "outputs": [
    {
     "name": "stdout",
     "output_type": "stream",
     "text": [
      "loading Roboflow workspace...\n",
      "loading Roboflow project...\n",
      "Dependency ultralytics==8.0.196 is required but found version=8.0.208, to fix: `pip install ultralytics==8.0.196`\n"
     ]
    },
    {
     "name": "stderr",
     "output_type": "stream",
     "text": [
      "Downloading Dataset Version Zip in Mask-Detection-YOLOv8-14 to yolov8:: 100%|██████████| 217896/217896 [00:47<00:00, 4559.27it/s]"
     ]
    },
    {
     "name": "stdout",
     "output_type": "stream",
     "text": []
    },
    {
     "name": "stderr",
     "output_type": "stream",
     "text": [
      "\n",
      "Extracting Dataset Version Zip to Mask-Detection-YOLOv8-14 in yolov8:: 100%|██████████| 9106/9106 [00:00<00:00, 12122.04it/s]\n"
     ]
    },
    {
     "ename": "FileNotFoundError",
     "evalue": "[Errno 2] No such file or directory: 'Mask-Detection-YOLOv8-1/data_backup.yaml'",
     "output_type": "error",
     "traceback": [
      "\u001B[0;31m---------------------------------------------------------------------------\u001B[0m",
      "\u001B[0;31mFileNotFoundError\u001B[0m                         Traceback (most recent call last)",
      "Cell \u001B[0;32mIn[6], line 15\u001B[0m\n\u001B[1;32m     12\u001B[0m         dataset \u001B[38;5;241m=\u001B[39m project\u001B[38;5;241m.\u001B[39mversion(VERSION)\u001B[38;5;241m.\u001B[39mdownload(\u001B[38;5;124m\"\u001B[39m\u001B[38;5;124myolov8\u001B[39m\u001B[38;5;124m\"\u001B[39m)\n\u001B[1;32m     13\u001B[0m         dataset_location \u001B[38;5;241m=\u001B[39m dataset\u001B[38;5;241m.\u001B[39mlocation\n\u001B[0;32m---> 15\u001B[0m     \u001B[43mshutil\u001B[49m\u001B[38;5;241;43m.\u001B[39;49m\u001B[43mcopy\u001B[49m\u001B[43m(\u001B[49m\u001B[38;5;124;43m'\u001B[39;49m\u001B[38;5;124;43mMask-Detection-YOLOv8-1/data_backup.yaml\u001B[39;49m\u001B[38;5;124;43m'\u001B[39;49m\u001B[43m,\u001B[49m\u001B[43m \u001B[49m\u001B[38;5;124;43mf\u001B[39;49m\u001B[38;5;124;43m'\u001B[39;49m\u001B[38;5;124;43mMask-Detection-YOLOv8-\u001B[39;49m\u001B[38;5;132;43;01m{\u001B[39;49;00m\u001B[43mVERSION\u001B[49m\u001B[38;5;132;43;01m}\u001B[39;49;00m\u001B[38;5;124;43m/data.yaml\u001B[39;49m\u001B[38;5;124;43m'\u001B[39;49m\u001B[43m)\u001B[49m\n\u001B[1;32m     17\u001B[0m \u001B[38;5;28mprint\u001B[39m(\u001B[38;5;124m\"\u001B[39m\u001B[38;5;124mDataset location:\u001B[39m\u001B[38;5;124m\"\u001B[39m, dataset_location)\n",
      "File \u001B[0;32m/usr/lib/python3.8/shutil.py:418\u001B[0m, in \u001B[0;36mcopy\u001B[0;34m(src, dst, follow_symlinks)\u001B[0m\n\u001B[1;32m    416\u001B[0m \u001B[38;5;28;01mif\u001B[39;00m os\u001B[38;5;241m.\u001B[39mpath\u001B[38;5;241m.\u001B[39misdir(dst):\n\u001B[1;32m    417\u001B[0m     dst \u001B[38;5;241m=\u001B[39m os\u001B[38;5;241m.\u001B[39mpath\u001B[38;5;241m.\u001B[39mjoin(dst, os\u001B[38;5;241m.\u001B[39mpath\u001B[38;5;241m.\u001B[39mbasename(src))\n\u001B[0;32m--> 418\u001B[0m \u001B[43mcopyfile\u001B[49m\u001B[43m(\u001B[49m\u001B[43msrc\u001B[49m\u001B[43m,\u001B[49m\u001B[43m \u001B[49m\u001B[43mdst\u001B[49m\u001B[43m,\u001B[49m\u001B[43m \u001B[49m\u001B[43mfollow_symlinks\u001B[49m\u001B[38;5;241;43m=\u001B[39;49m\u001B[43mfollow_symlinks\u001B[49m\u001B[43m)\u001B[49m\n\u001B[1;32m    419\u001B[0m copymode(src, dst, follow_symlinks\u001B[38;5;241m=\u001B[39mfollow_symlinks)\n\u001B[1;32m    420\u001B[0m \u001B[38;5;28;01mreturn\u001B[39;00m dst\n",
      "File \u001B[0;32m/usr/lib/python3.8/shutil.py:264\u001B[0m, in \u001B[0;36mcopyfile\u001B[0;34m(src, dst, follow_symlinks)\u001B[0m\n\u001B[1;32m    262\u001B[0m     os\u001B[38;5;241m.\u001B[39msymlink(os\u001B[38;5;241m.\u001B[39mreadlink(src), dst)\n\u001B[1;32m    263\u001B[0m \u001B[38;5;28;01melse\u001B[39;00m:\n\u001B[0;32m--> 264\u001B[0m     \u001B[38;5;28;01mwith\u001B[39;00m \u001B[38;5;28;43mopen\u001B[39;49m\u001B[43m(\u001B[49m\u001B[43msrc\u001B[49m\u001B[43m,\u001B[49m\u001B[43m \u001B[49m\u001B[38;5;124;43m'\u001B[39;49m\u001B[38;5;124;43mrb\u001B[39;49m\u001B[38;5;124;43m'\u001B[39;49m\u001B[43m)\u001B[49m \u001B[38;5;28;01mas\u001B[39;00m fsrc, \u001B[38;5;28mopen\u001B[39m(dst, \u001B[38;5;124m'\u001B[39m\u001B[38;5;124mwb\u001B[39m\u001B[38;5;124m'\u001B[39m) \u001B[38;5;28;01mas\u001B[39;00m fdst:\n\u001B[1;32m    265\u001B[0m         \u001B[38;5;66;03m# macOS\u001B[39;00m\n\u001B[1;32m    266\u001B[0m         \u001B[38;5;28;01mif\u001B[39;00m _HAS_FCOPYFILE:\n\u001B[1;32m    267\u001B[0m             \u001B[38;5;28;01mtry\u001B[39;00m:\n",
      "\u001B[0;31mFileNotFoundError\u001B[0m: [Errno 2] No such file or directory: 'Mask-Detection-YOLOv8-1/data_backup.yaml'"
     ]
    }
   ],
   "source": [
    "version_name = f'Mask-Detection-YOLOv8-{VERSION}'\n",
    "full_dataset_path = os.path.join(HOME, 'YOLO', version_name)\n",
    "\n",
    "if os.path.exists(full_dataset_path):\n",
    "    print(f\"{version_name} already exists in the directory!\")\n",
    "    dataset_location = full_dataset_path\n",
    "else:\n",
    "    # Download dataset from Roboflow\n",
    "    with open('apiKey.txt') as api:\n",
    "        rf = Roboflow(api_key=api.read())\n",
    "        project = rf.workspace(\"agh-ett2f\").project(\"mask-detection-yolov8\")\n",
    "        dataset = project.version(VERSION).download(\"yolov8\")\n",
    "        dataset_location = dataset.location\n",
    "\n",
    "    shutil.copy('Mask-Detection-YOLOv8-1/data_backup.yaml', f'Mask-Detection-YOLOv8-{VERSION}/data.yaml')\n",
    "\n",
    "print(\"Dataset location:\", dataset_location)"
   ],
   "metadata": {
    "collapsed": false,
    "ExecuteTime": {
     "end_time": "2023-11-20T16:55:43.822203135Z",
     "start_time": "2023-11-20T16:54:51.611814324Z"
    }
   }
  },
  {
   "cell_type": "markdown",
   "source": [
    "**Training the Model**\n",
    "* Weights and Biases initialization\n",
    "* starting a timer to count a time it took for model to train\n",
    "* train init with hiperparameters to set for fine-tuning process"
   ],
   "metadata": {
    "collapsed": false
   }
  },
  {
   "cell_type": "code",
   "execution_count": null,
   "outputs": [],
   "source": [
    "# Initialize the YOLOv8 model\n",
    "model = YOLO(f\"yolov8s.pt\")\n",
    "save_dir_train = f'E:/PycharmProjects/Medical-Mask-Presence-Detection/runs/detect/train{VERSION}'\n",
    "os.makedirs(save_dir_train, exist_ok=True)\n",
    "\n",
    "# Set up Weights and Biases for experiment tracking\n",
    "wandb.init(project=PROJECT, config={\"epochs\": EPOCHS, \"batch_size\": BS})\n",
    "add_wandb_callback(model, enable_model_checkpointing=True)\n",
    "\n",
    "# Training the model\n",
    "start_time = time.time()\n",
    "\n",
    "model.train(\n",
    "    project=PROJECT,\n",
    "    data=f'{dataset_location}/data.yaml',\n",
    "    epochs=EPOCHS,\n",
    "    imgsz=IMG_SIZE,\n",
    "    save_dir=save_dir_train,\n",
    "    seed=3,\n",
    "    lr0=0.005,\n",
    "    warmup_epochs=3,\n",
    "    lrf=0.0005,\n",
    "    weight_decay=0.0003,\n",
    "    dropout=0.2,\n",
    ")\n",
    "\n",
    "end_time = time.time() - start_time\n",
    "\n",
    "print(f\"Training took {end_time/60:.2f} minutes ({end_time:.2f} seconds)\")"
   ],
   "metadata": {
    "collapsed": false
   }
  },
  {
   "cell_type": "markdown",
   "source": [
    "**Validation and Testing**\n",
    "1. defining func that will find lates version of model weights\n",
    "2. defining path used in model validation and evaluation"
   ],
   "metadata": {
    "collapsed": false
   }
  },
  {
   "cell_type": "code",
   "execution_count": null,
   "outputs": [],
   "source": [
    "# Helper function to retrieve the directory with the latest training\n",
    "def train_dir_with_biggest_number():\n",
    "    directory = f'{HOME}/YOLO/Medical-Mask-Presence-Detection/'\n",
    "    folders = [f for f in os.listdir(directory) if os.path.isdir(os.path.join(directory, f))]\n",
    "    pattern = r'^train(\\d+)$'\n",
    "    max_num = -1\n",
    "    max_folder = None\n",
    "\n",
    "    for folder in folders:\n",
    "        match = re.match(pattern, folder)\n",
    "        if match:\n",
    "            num = int(match.group(1))\n",
    "            if num > max_num:\n",
    "                max_num = num\n",
    "                max_folder = folder\n",
    "        else:\n",
    "            max_folder = \"train\"\n",
    "\n",
    "    return max_folder\n",
    "\n",
    "max_train = train_dir_with_biggest_number()\n",
    "print(\"Saved to: \" + str(max_train))\n",
    "\n",
    "trainedModelPath = f'{HOME}/YOLO/Medical-Mask-Presence-Detection/{max_train}/weights/best.pt'\n",
    "trainedModelDir=f'Medical-Mask-Presence-Detection/train/'\n",
    "trainedModel = YOLO(trainedModelPath)"
   ],
   "metadata": {
    "collapsed": false
   }
  },
  {
   "cell_type": "markdown",
   "source": [
    "**Validating and predicting model**"
   ],
   "metadata": {
    "collapsed": false
   }
  },
  {
   "cell_type": "code",
   "execution_count": null,
   "outputs": [],
   "source": [
    "# # Validate the model\n",
    "trainedModel.val(data=f'{dataset_location}/data.yaml')\n",
    "\n",
    "# Predict using the trained model on test images\n",
    "trainedModel.predict(conf=0.25, source=f'{dataset.location}/test/images')"
   ],
   "metadata": {
    "collapsed": false
   }
  },
  {
   "cell_type": "markdown",
   "source": [
    "Deployment to Roboflow platform"
   ],
   "metadata": {
    "collapsed": false
   }
  },
  {
   "cell_type": "code",
   "execution_count": null,
   "outputs": [],
   "source": [
    "# Deploying the model for inference\n",
    "project.version(VERSION).deploy(model_type='yolov8', model_path=trainedModelDir)"
   ],
   "metadata": {
    "collapsed": false
   }
  },
  {
   "cell_type": "code",
   "execution_count": null,
   "outputs": [],
   "source": [
    "# Clear GPU memory for optimization (import to run only one cell if needed)\n",
    "import torch\n",
    "torch.cuda.empty_cache()"
   ],
   "metadata": {
    "collapsed": false
   }
  }
 ],
 "metadata": {
  "kernelspec": {
   "display_name": "Python 3 (ipykernel)",
   "language": "python",
   "name": "python3"
  },
  "language_info": {
   "codemirror_mode": {
    "name": "ipython",
    "version": 3
   },
   "file_extension": ".py",
   "mimetype": "text/x-python",
   "name": "python",
   "nbconvert_exporter": "python",
   "pygments_lexer": "ipython3",
   "version": "3.11.3"
  }
 },
 "nbformat": 4,
 "nbformat_minor": 4
}
