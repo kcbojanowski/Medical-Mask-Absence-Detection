{
 "cells": [
  {
   "cell_type": "markdown",
   "source": [
    "# YOLOv8 Model for Medical Masks Detection\n",
    "Implementation of Yolov8 model trained using dataset created using three different datasets. Model will be implemented in DeepStream SDK Face Mask Absence Detection.\n",
    "Process: \n",
    "1. Data processing\n",
    "2. Training Yolov8 custom model\n",
    "3. Converting it to ONNX file (Open Neural Network Exchange)\n",
    "4. Modifying model using GraphSurgeon for DeepStream compatibility\n",
    "4. Transferring it to TensorRT engine (compatibility, performance, optimization)\n",
    "5. Creating custom C++ parser for the Deepstream application\n",
    "6. Programming Deepstream Application and creating configuration file\n",
    "7. Analyzing results and performance"
   ],
   "metadata": {
    "collapsed": false
   }
  },
  {
   "cell_type": "markdown",
   "source": [
    "**Environment and GPU Check**"
   ],
   "metadata": {
    "collapsed": false
   }
  },
  {
   "cell_type": "code",
   "execution_count": null,
   "outputs": [],
   "source": [
    "import os\n",
    "import re\n",
    "import time\n",
    "import yaml\n",
    "import shutil\n",
    "\n",
    "import torch\n",
    "import torch.onnx\n",
    "from ultralytics.models import YOLO\n",
    "\n",
    "import wandb\n",
    "from roboflow import Roboflow\n",
    "from wandb.integration.ultralytics import add_wandb_callback\n",
    "\n",
    "\n",
    "!nvidia-smi\n",
    "print(\"Cuda available\") if torch.cuda.is_available() else print(\"Cuda is not available\")\n",
    "HOME = 'C:/Users/kacpi/PycharmProjects/Medical-Mask-Presence-Detection'"
   ],
   "metadata": {
    "collapsed": false
   }
  },
  {
   "cell_type": "code",
   "execution_count": null,
   "outputs": [],
   "source": [
    "wandb.login()"
   ],
   "metadata": {
    "collapsed": false
   }
  },
  {
   "cell_type": "markdown",
   "source": [
    "**Parameters**\n",
    "* Project and version are needed for Roboflow deployment where model can be used and analyzed\n",
    "* Epochs and Bs are both used in training process\n",
    "* Img_size = 640 "
   ],
   "metadata": {
    "collapsed": false
   }
  },
  {
   "cell_type": "code",
   "execution_count": null,
   "outputs": [],
   "source": [
    "PROJECT = \"Medical-Mask-Presence-Detection\"\n",
    "VERSION = 5\n",
    "EPOCHS = 40\n",
    "BS = 64\n",
    "IMG_SIZE = 640"
   ],
   "metadata": {
    "collapsed": false
   }
  },
  {
   "cell_type": "markdown",
   "source": [
    "**Dataset Preparation**\n",
    "1. downloading dataset from Roboflow platform\n",
    "2. checking if dataset already exists in local environment"
   ],
   "metadata": {
    "collapsed": false
   }
  },
  {
   "cell_type": "code",
   "execution_count": null,
   "outputs": [],
   "source": [
    "version_name = f'Mask-Detection-YOLOv8-{VERSION}'\n",
    "full_dataset_path = os.path.join(HOME, 'YOLO', version_name)\n",
    "\n",
    "if os.path.exists(full_dataset_path):\n",
    "    print(f\"{version_name} already exists in the directory!\")\n",
    "    dataset_location = full_dataset_path\n",
    "else:\n",
    "    # Download dataset from Roboflow\n",
    "    with open('apiKey.txt') as api:\n",
    "        rf = Roboflow(api_key=api.read())\n",
    "        project = rf.workspace(\"agh-ett2f\").project(\"mask-detection-yolov8\")\n",
    "        dataset = project.version(VERSION).download(\"yolov8\")\n",
    "        dataset_location = dataset.location\n",
    "\n",
    "    shutil.copy('Mask-Detection-YOLOv8-1/data_backup.yaml', f'Mask-Detection-YOLOv8-{VERSION}/data.yaml')\n",
    "\n",
    "print(\"Dataset location:\", dataset_location)"
   ],
   "metadata": {
    "collapsed": false
   }
  },
  {
   "cell_type": "markdown",
   "source": [
    "**Training the Model**\n",
    "* Weights and Biases initialization\n",
    "* starting a timer to count a time it took for model to train\n",
    "* train init with hiperparameters to set for fine-tuning process"
   ],
   "metadata": {
    "collapsed": false
   }
  },
  {
   "cell_type": "code",
   "execution_count": null,
   "outputs": [],
   "source": [
    "# Initialize the YOLOv8 model\n",
    "model = YOLO(f\"yolov8s.pt\")\n",
    "save_dir_train = f'E:/PycharmProjects/Medical-Mask-Presence-Detection/runs/detect/train{VERSION}'\n",
    "os.makedirs(save_dir_train, exist_ok=True)\n",
    "\n",
    "# Set up Weights and Biases for experiment tracking\n",
    "wandb.init(project=PROJECT, config={\"epochs\": EPOCHS, \"batch_size\": BS})\n",
    "add_wandb_callback(model, enable_model_checkpointing=True)\n",
    "\n",
    "# Training the model\n",
    "start_time = time.time()\n",
    "\n",
    "model.train(\n",
    "    project=PROJECT,\n",
    "    data=f'{dataset_location}/data.yaml',\n",
    "    epochs=EPOCHS,\n",
    "    imgsz=IMG_SIZE,\n",
    "    save_dir=save_dir_train,\n",
    "    seed=3,\n",
    "    lr0=0.005,\n",
    "    warmup_epochs=3,\n",
    "    lrf=0.0005,\n",
    "    weight_decay=0.0003,\n",
    "    dropout=0.2,\n",
    ")\n",
    "\n",
    "end_time = time.time() - start_time\n",
    "\n",
    "print(f\"Training took {end_time/60:.2f} minutes ({end_time:.2f} seconds)\")"
   ],
   "metadata": {
    "collapsed": false
   }
  },
  {
   "cell_type": "markdown",
   "source": [
    "**Validation and Testing**\n",
    "1. defining func that will find lates version of model weights\n",
    "2. defining path used in model validation and evaluation"
   ],
   "metadata": {
    "collapsed": false
   }
  },
  {
   "cell_type": "code",
   "execution_count": null,
   "outputs": [],
   "source": [
    "# Helper function to retrieve the directory with the latest training\n",
    "def train_dir_with_biggest_number():\n",
    "    directory = f'{HOME}/YOLO/Medical-Mask-Presence-Detection/'\n",
    "    folders = [f for f in os.listdir(directory) if os.path.isdir(os.path.join(directory, f))]\n",
    "    pattern = r'^train(\\d+)$'\n",
    "    max_num = -1\n",
    "    max_folder = None\n",
    "\n",
    "    for folder in folders:\n",
    "        match = re.match(pattern, folder)\n",
    "        if match:\n",
    "            num = int(match.group(1))\n",
    "            if num > max_num:\n",
    "                max_num = num\n",
    "                max_folder = folder\n",
    "        else:\n",
    "            max_folder = \"train\"\n",
    "\n",
    "    return max_folder\n",
    "\n",
    "max_train = train_dir_with_biggest_number()\n",
    "print(\"Saved to: \" + str(max_train))\n",
    "\n",
    "trainedModelPath = f'{HOME}/YOLO/Medical-Mask-Presence-Detection/{max_train}/weights/best.pt'\n",
    "trainedModelDir=f'Medical-Mask-Presence-Detection/train/'\n",
    "trainedModel = YOLO(trainedModelPath)"
   ],
   "metadata": {
    "collapsed": false
   }
  },
  {
   "cell_type": "markdown",
   "source": [
    "**Validating and predicting model**"
   ],
   "metadata": {
    "collapsed": false
   }
  },
  {
   "cell_type": "code",
   "execution_count": null,
   "outputs": [],
   "source": [
    "# # Validate the model\n",
    "trainedModel.val(data=f'{dataset_location}/data.yaml')\n",
    "\n",
    "# Predict using the trained model on test images\n",
    "trainedModel.predict(conf=0.25, source=f'{dataset.location}/test/images')"
   ],
   "metadata": {
    "collapsed": false
   }
  },
  {
   "cell_type": "markdown",
   "source": [
    "Deployment to Roboflow platform"
   ],
   "metadata": {
    "collapsed": false
   }
  },
  {
   "cell_type": "code",
   "execution_count": null,
   "outputs": [],
   "source": [
    "# Deploying the model for inference\n",
    "project.version(VERSION).deploy(model_type='yolov8', model_path=trainedModelDir)"
   ],
   "metadata": {
    "collapsed": false
   }
  },
  {
   "cell_type": "code",
   "execution_count": null,
   "outputs": [],
   "source": [
    "# Clear GPU memory for optimization (import to run only one cell if needed)\n",
    "import torch\n",
    "torch.cuda.empty_cache()"
   ],
   "metadata": {
    "collapsed": false
   }
  }
 ],
 "metadata": {
  "kernelspec": {
   "display_name": "Python 3 (ipykernel)",
   "language": "python",
   "name": "python3"
  },
  "language_info": {
   "codemirror_mode": {
    "name": "ipython",
    "version": 3
   },
   "file_extension": ".py",
   "mimetype": "text/x-python",
   "name": "python",
   "nbconvert_exporter": "python",
   "pygments_lexer": "ipython3",
   "version": "3.11.3"
  }
 },
 "nbformat": 4,
 "nbformat_minor": 4
}
